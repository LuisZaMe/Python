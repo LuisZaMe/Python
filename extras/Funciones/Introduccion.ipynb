{
 "cells": [
  {
   "cell_type": "code",
   "execution_count": 1,
   "id": "907efb12-3329-40bc-92f9-a5b31f71a991",
   "metadata": {},
   "outputs": [
    {
     "name": "stdout",
     "output_type": "stream",
     "text": [
      "Hola mundo\n"
     ]
    }
   ],
   "source": [
    "print (\"Hola mundo\")"
   ]
  },
  {
   "cell_type": "code",
   "execution_count": 2,
   "id": "52c50374-7acd-411c-b283-07dcc6f5bff7",
   "metadata": {
    "scrolled": true
   },
   "outputs": [
    {
     "name": "stdout",
     "output_type": "stream",
     "text": [
      "Hello\n"
     ]
    }
   ],
   "source": [
    "print (\"Hello\")"
   ]
  },
  {
   "cell_type": "code",
   "execution_count": 1,
   "id": "bf70fc59-f488-4e08-9fb8-3ea26b4bb17a",
   "metadata": {},
   "outputs": [],
   "source": [
    "# tipos de variables\n",
    "num = 10\n",
    "pi = 3.14\n",
    "name = \"Heysel\"\n",
    "is_valid = True\n",
    "\n",
    "# Lista\n",
    "numbers = [1, 2, 3, 4, 5]\n",
    "\n",
    "# Tuple Similar to lists but immutable (cannot be changed).\n",
    "coordinates = (10, 20)\n",
    "\n",
    "# Dictionary: Holds key-value pairs.\n",
    "person = {\"name\": \"John\", \"age\": 30, \"lastname\":\"Zamudio\", \"Gana\":10552.15}"
   ]
  },
  {
   "cell_type": "code",
   "execution_count": 3,
   "id": "0ae64396-47c2-4348-bfb4-d7d6eb328888",
   "metadata": {},
   "outputs": [
    {
     "name": "stdout",
     "output_type": "stream",
     "text": [
      "15\n",
      "16\n",
      "1\n"
     ]
    }
   ],
   "source": [
    "#Operaciones matematicas \n",
    "x = 5  # Assigns the value 5 to the variable x\n",
    "\n",
    "y = 10\n",
    "y += 5  # Equivalent to y = y + 5 (adds 5 to y and assigns the result to y)\n",
    "print(y)\n",
    "\n",
    "z = 20\n",
    "z -= 4  # Equivalent to z = z - 3 (subtracts 3 from z and assigns the result to z)\n",
    "print(z)\n",
    "\n",
    "a = 2\n",
    "a *= 4  # Equivalent to a = a * 4 (multiplies a by 4 and assigns the result to a)\n",
    "\n",
    "b = 15\n",
    "b /= 3  # Equivalent to b = b / 3 (divides b by 3 and assigns the result to b)\n",
    "\n",
    "c = 10\n",
    "c %= 3  # Equivalent to c = c % 3 (stores the remainder of c divided by 3 in c)\n",
    "print(c)"
   ]
  },
  {
   "cell_type": "code",
   "execution_count": 7,
   "id": "97f56d3b-4491-4d3b-b81b-82234620f085",
   "metadata": {},
   "outputs": [
    {
     "name": "stdout",
     "output_type": "stream",
     "text": [
      "56\n"
     ]
    }
   ],
   "source": [
    "mul=7*8\n",
    "print(mul)"
   ]
  },
  {
   "cell_type": "code",
   "execution_count": 12,
   "id": "26167bfc-a2b5-4498-93d5-e0184a8e81dc",
   "metadata": {},
   "outputs": [
    {
     "name": "stdout",
     "output_type": "stream",
     "text": [
      "19\n"
     ]
    }
   ],
   "source": [
    "# Single quotes\n",
    "my_string = 'Hello, World!'\n",
    "\n",
    "# Double quotes\n",
    "another_string = \"This is another string.\"\n",
    "\n",
    "#String Concatenation (combining strings):\n",
    "greeting = 'Hello'\n",
    "name = 'Alice'\n",
    "message = greeting + ', ' + name + '!'\n",
    "message02=(greeting, name)\n",
    "# Output: 'Hello, Alice!'\n",
    "\n",
    "\n",
    "#String Length (finding the length of a string):\n",
    "sentence = 'This is a sentence.'\n",
    "length = len(sentence)\n",
    "# Output: 18 (including spaces and punctuation)\n",
    "\n",
    "#String Indexing (accessing individual characters in a string):\n",
    "word = 'Python'\n",
    "first_letter = word[0]  # Accessing the first character (index 0)\n",
    "last_letter = word[-1]  # Accessing the last character using negative indexing\n",
    "# Output: 'P' (first_letter), 'n' (last_letter)\n",
    "\n",
    "\n",
    "#String Slicing (extracting a portion of a string):\n",
    "phrase = 'Hello, how are you?'\n",
    "sliced = phrase[7:10]  # Extract characters from index 7 to 9 (10 is exclusive)\n",
    "# Output: 'how'\n",
    "\n",
    "print(length)"
   ]
  },
  {
   "cell_type": "code",
   "execution_count": 20,
   "id": "f0449be2-2c68-4765-a9c0-703456821873",
   "metadata": {},
   "outputs": [
    {
     "name": "stdout",
     "output_type": "stream",
     "text": [
      "Hola Hola Hola \n",
      "False\n",
      "True\n",
      "8 APPLE(s)\n"
     ]
    }
   ],
   "source": [
    "#String Operators:\n",
    "greeting = 'Hello'\n",
    "name = 'Bob'\n",
    "message = greeting + ' ' + name  # Output: 'Hello Bob'\n",
    "\n",
    "#Repetition Operator (*): Repeats a string a certain number of times.\n",
    "word = 'Hola '\n",
    "repeated_word = word * 3  # Output: 'Hola Hola Hola '\n",
    "\n",
    "print(repeated_word)\n",
    "\n",
    "#Membership Operator (in): Checks if a substring exists within a string.\n",
    "sentence = 'This is a sentence'\n",
    "check = ',' in sentence  # Output: True\n",
    "print(check)\n",
    "\n",
    "#Comparison Operators (<, >, ==, !=): Used to compare strings lexicographically. Comparador que muestra alfabeticamente\n",
    "string1 = 'apple'\n",
    "string2 = 'banana'\n",
    "comparison = string1 != string2  # Output: True ('apple' comes before 'banana' alphabetically)\n",
    "print(comparison)\n",
    "\n",
    "#Este comando encuentra la letra por posicion empezando desde 0...N\n",
    "string1.find('a')\n",
    "\n",
    "# Funciones para mayuscula y minusculas\n",
    "#Lower hace el texto en minisculas\n",
    "#print(string1.lower())\n",
    "#upper hace el texto en mayusculas\n",
    "#print(string1.upper())\n",
    "\n",
    "#capitalize convierte la primera letra en mayuscula\n",
    "#print(string1.capitalize())\n",
    "\n",
    "string1 = '8 ' + string1.upper() + '(s)'\n",
    "print(string1)"
   ]
  },
  {
   "cell_type": "code",
   "execution_count": 23,
   "id": "8941e117-3b03-4979-b060-f7a4bad02e14",
   "metadata": {},
   "outputs": [
    {
     "name": "stdout",
     "output_type": "stream",
     "text": [
      "LUIS ZAMUDIO MARCADO\n"
     ]
    }
   ],
   "source": [
    "#Poner 3 variable 1 con mi nombre 2 con apellido 3 con apellido materno y ponerlas en una variable y convertilas todas a mayuscula\n",
    "\n",
    "name='Luis'\n",
    "lastname='Zamudio'\n",
    "lastname02='Marcado'\n",
    "\n",
    "fullname= name.upper()+' '+ lastname.upper()+' ' + lastname02.upper()\n",
    "print(fullname)"
   ]
  },
  {
   "cell_type": "code",
   "execution_count": 24,
   "id": "eebb1357-5388-4b97-b9ca-8ee9c1b307c7",
   "metadata": {},
   "outputs": [
    {
     "data": {
      "text/plain": [
       "0.045"
      ]
     },
     "execution_count": 24,
     "metadata": {},
     "output_type": "execute_result"
    }
   ],
   "source": [
    "4.5e-2\n"
   ]
  },
  {
   "cell_type": "code",
   "execution_count": 25,
   "id": "555aafe5-be38-4c4b-8b1d-c945842091e8",
   "metadata": {},
   "outputs": [
    {
     "data": {
      "text/plain": [
       "4"
      ]
     },
     "execution_count": 25,
     "metadata": {},
     "output_type": "execute_result"
    }
   ],
   "source": [
    "2+2\n"
   ]
  },
  {
   "cell_type": "code",
   "execution_count": 33,
   "id": "9a1e5cd7-e1ba-4606-ac51-5559c8b3ddfa",
   "metadata": {},
   "outputs": [
    {
     "data": {
      "text/plain": [
       "1"
      ]
     },
     "execution_count": 33,
     "metadata": {},
     "output_type": "execute_result"
    }
   ],
   "source": [
    "7 // 6"
   ]
  },
  {
   "cell_type": "code",
   "execution_count": 34,
   "id": "86c20ecd-92ae-4d3d-9f5c-46a089b64774",
   "metadata": {},
   "outputs": [
    {
     "data": {
      "text/plain": [
       "1.1666666666666667"
      ]
     },
     "execution_count": 34,
     "metadata": {},
     "output_type": "execute_result"
    }
   ],
   "source": [
    "7 / 6"
   ]
  },
  {
   "cell_type": "code",
   "execution_count": 38,
   "id": "7eadb9c8-a7e3-4109-9fc8-3a0cb212cce4",
   "metadata": {},
   "outputs": [
    {
     "data": {
      "text/plain": [
       "9"
      ]
     },
     "execution_count": 38,
     "metadata": {},
     "output_type": "execute_result"
    }
   ],
   "source": [
    "3 * 3"
   ]
  },
  {
   "cell_type": "code",
   "execution_count": 39,
   "id": "201b25e1-4acf-4f9d-96aa-fdb183cdcc8b",
   "metadata": {},
   "outputs": [
    {
     "data": {
      "text/plain": [
       "27"
      ]
     },
     "execution_count": 39,
     "metadata": {},
     "output_type": "execute_result"
    }
   ],
   "source": [
    "#Potencia\n",
    "3 ** 3"
   ]
  },
  {
   "cell_type": "code",
   "execution_count": 40,
   "id": "2989b39b-fe16-491a-8fe4-6a241afc5a2d",
   "metadata": {},
   "outputs": [],
   "source": [
    "# Arithmetic Operators:\n",
    "\n",
    "# Addition\n",
    "result_addition = 5 + 3  # Output: 8\n",
    "\n",
    "# Subtraction\n",
    "result_subtraction = 10 - 4  # Output: 6\n",
    "\n",
    "# Multiplication\n",
    "result_multiplication = 6 * 7  # Output: 42\n",
    "\n",
    "# Division\n",
    "result_division = 15 / 3  # Output: 5.0 (float division)\n",
    "\n",
    "# Floor Division (rounded down to the nearest whole number)\n",
    "result_floor_division = 17 // 5  # Output: 3\n",
    "\n",
    "# Modulus (remainder after division)\n",
    "result_modulus = 17 % 5  # Output: 2\n",
    "\n",
    "# Exponentiation\n",
    "result_exponentiation = 2 ** 3  # Output: 8\n",
    "\n",
    "\n",
    "#Comparison Operators:\n",
    "\n",
    "# Equal to\n",
    "result_equal = (5 == 5)  # Output: True\n",
    "\n",
    "# Not equal to\n",
    "result_not_equal = (10 != 5)  # Output: True\n",
    "\n",
    "# Greater than\n",
    "result_greater_than = (15 > 10)  # Output: True\n",
    "\n",
    "# Less than or equal to\n",
    "result_less_than_or_equal = (7 <= 5)  # Output: False\n",
    "\n",
    "\n",
    "    \n",
    "#Logical Operators:\n",
    "# AND operator\n",
    "result_and = (True and False)  # Output: False\n",
    "\n",
    "# OR operator\n",
    "result_or = (True or False)  # Output: True\n",
    "\n",
    "# NOT operator\n",
    "result_not = (not True)  # Output: False\n"
   ]
  },
  {
   "cell_type": "code",
   "execution_count": 41,
   "id": "a91d4621-7e08-4e19-af4f-88c3b8ea81c5",
   "metadata": {},
   "outputs": [
    {
     "data": {
      "text/plain": [
       "2"
      ]
     },
     "execution_count": 41,
     "metadata": {},
     "output_type": "execute_result"
    }
   ],
   "source": [
    "#Lo divide y m imprime el lo que sobra de la division \n",
    "17 % 5"
   ]
  },
  {
   "cell_type": "code",
   "execution_count": 42,
   "id": "18f55e2a-3d5f-4eac-8db1-a003a6392b80",
   "metadata": {},
   "outputs": [
    {
     "data": {
      "text/plain": [
       "1"
      ]
     },
     "execution_count": 42,
     "metadata": {},
     "output_type": "execute_result"
    }
   ],
   "source": [
    "10 % 3"
   ]
  },
  {
   "cell_type": "code",
   "execution_count": 43,
   "id": "b82134bf-6807-435c-a34f-c02f8e12d720",
   "metadata": {},
   "outputs": [
    {
     "name": "stdout",
     "output_type": "stream",
     "text": [
      "El número es impar\n"
     ]
    }
   ],
   "source": [
    "n = 7\n",
    "if n % 2 == 0:\n",
    "    print(\"El número es par\")\n",
    "else:\n",
    "    print(\"El número es impar\")\n",
    "\n",
    "\n"
   ]
  },
  {
   "cell_type": "code",
   "execution_count": 53,
   "id": "a9bb7ab8-b5b4-45e4-ad6f-c6153b903714",
   "metadata": {},
   "outputs": [
    {
     "name": "stdout",
     "output_type": "stream",
     "text": [
      "El número no es impar\n"
     ]
    }
   ],
   "source": [
    "n = 2\n",
    "if n % 2 == 1:\n",
    "    print(\"El número es imparpar\",n)\n",
    "else:\n",
    "    print(\"El número no es impar\")"
   ]
  },
  {
   "cell_type": "code",
   "execution_count": 1,
   "id": "6008e717-0b99-4dad-b2b4-7902cf0e9d7f",
   "metadata": {},
   "outputs": [
    {
     "data": {
      "text/plain": [
       "'e'"
      ]
     },
     "execution_count": 1,
     "metadata": {},
     "output_type": "execute_result"
    }
   ],
   "source": [
    "test_str='testing'\n",
    "test_str[1]"
   ]
  },
  {
   "cell_type": "code",
   "execution_count": null,
   "id": "fa631b61-a1a6-451c-a2b1-44230d6bc2ad",
   "metadata": {},
   "outputs": [],
   "source": [
    "#validadr cuantos caracteres tiene una palabra y que me de la segunda letra y el string viene vacio diga que no hay cadena para validar\n",
    "\n",
    "palabra=''"
   ]
  }
 ],
 "metadata": {
  "kernelspec": {
   "display_name": "Python 3 (ipykernel)",
   "language": "python",
   "name": "python3"
  },
  "language_info": {
   "codemirror_mode": {
    "name": "ipython",
    "version": 3
   },
   "file_extension": ".py",
   "mimetype": "text/x-python",
   "name": "python",
   "nbconvert_exporter": "python",
   "pygments_lexer": "ipython3",
   "version": "3.12.0"
  }
 },
 "nbformat": 4,
 "nbformat_minor": 5
}
